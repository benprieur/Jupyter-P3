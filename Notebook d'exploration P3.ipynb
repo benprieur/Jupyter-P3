{
 "cells": [
  {
   "cell_type": "code",
   "execution_count": 55,
   "id": "b124a43d",
   "metadata": {},
   "outputs": [],
   "source": [
    "import pandas as pd\n",
    "df2015 = pd.read_csv(\"2015-building-energy-benchmarking.csv\", sep=',')                                                                                     "
   ]
  },
  {
   "cell_type": "code",
   "execution_count": 56,
   "id": "de053e7e",
   "metadata": {},
   "outputs": [],
   "source": [
    "df2016 = pd.read_csv(\"2016-building-energy-benchmarking.csv\", sep=',') \n"
   ]
  },
  {
   "cell_type": "code",
   "execution_count": null,
   "id": "ac396103",
   "metadata": {},
   "outputs": [],
   "source": [
    "# 2016 colonnes à supprimer : \n",
    "# 'Address'\n",
    "# 'City'\n",
    "# 'State'\n",
    "# 'ZipCode'\n",
    "# 'Latitude'\n",
    "# 'Longitude'\n",
    "# '2010 Census Tracts'\n",
    "#  'Seattle Police Department Micro Community Policing Plan Areas'\n",
    "#  'City Council Districts'\n",
    "#  'SPD Beats'\n",
    "#  'Zip Codes'\n",
    "\n",
    "# Renommage \n",
    "# 'TotalGHGEmissions' >>> 'GHGEmissions(MetricTonsCO2e)'\n",
    "# 'GHGEmissionsIntensity' >>>> 'GHGEmissionsIntensity(kgCO2e/ft2)'"
   ]
  },
  {
   "cell_type": "code",
   "execution_count": 57,
   "id": "d47750cc",
   "metadata": {},
   "outputs": [],
   "source": [
    "df2016 = df2016.drop(columns=['Address', 'City', 'State', 'ZipCode', 'Latitude', 'Longitude'])\n",
    "df2016 = df2016.drop(columns=['DefaultData', 'Comments', 'ComplianceStatus', 'Outlier'])\n",
    "df2016 = df2016.rename(columns={'TotalGHGEmissions': 'GHGEmissions(MetricTonsCO2e)', 'GHGEmissionsIntensity': 'GHGEmissionsIntensity(kgCO2e/ft2)'})\n",
    "#list(df2016.columns)"
   ]
  },
  {
   "cell_type": "code",
   "execution_count": 58,
   "id": "aec50ec9",
   "metadata": {},
   "outputs": [],
   "source": [
    "df2015 = df2015.drop(columns=['Location', 'OtherFuelUse(kBtu)', 'DefaultData', 'Comment'])\n",
    "df2015 = df2015.drop(columns=['ComplianceStatus', 'Outlier', '2010 Census Tracts', 'Seattle Police Department Micro Community Policing Plan Areas'])\n",
    "df2015 = df2015.drop(columns=['City Council Districts', 'SPD Beats', 'Zip Codes'])"
   ]
  },
  {
   "cell_type": "code",
   "execution_count": 59,
   "id": "6effea6d",
   "metadata": {},
   "outputs": [
    {
     "data": {
      "text/plain": [
       "36"
      ]
     },
     "execution_count": 59,
     "metadata": {},
     "output_type": "execute_result"
    }
   ],
   "source": [
    "len(df2015.columns)"
   ]
  },
  {
   "cell_type": "code",
   "execution_count": 60,
   "id": "caea8a22",
   "metadata": {},
   "outputs": [
    {
     "data": {
      "text/plain": [
       "36"
      ]
     },
     "execution_count": 60,
     "metadata": {},
     "output_type": "execute_result"
    }
   ],
   "source": [
    "len(df2016.columns)"
   ]
  },
  {
   "cell_type": "code",
   "execution_count": 61,
   "id": "ada685d2",
   "metadata": {},
   "outputs": [],
   "source": [
    "dfReference = pd.concat([df2016,df2015], ignore_index=True)"
   ]
  },
  {
   "cell_type": "code",
   "execution_count": 62,
   "id": "b5ebfb38",
   "metadata": {},
   "outputs": [
    {
     "data": {
      "text/html": [
       "<div>\n",
       "<style scoped>\n",
       "    .dataframe tbody tr th:only-of-type {\n",
       "        vertical-align: middle;\n",
       "    }\n",
       "\n",
       "    .dataframe tbody tr th {\n",
       "        vertical-align: top;\n",
       "    }\n",
       "\n",
       "    .dataframe thead th {\n",
       "        text-align: right;\n",
       "    }\n",
       "</style>\n",
       "<table border=\"1\" class=\"dataframe\">\n",
       "  <thead>\n",
       "    <tr style=\"text-align: right;\">\n",
       "      <th></th>\n",
       "      <th>OSEBuildingID</th>\n",
       "      <th>DataYear</th>\n",
       "      <th>BuildingType</th>\n",
       "      <th>PrimaryPropertyType</th>\n",
       "      <th>PropertyName</th>\n",
       "      <th>TaxParcelIdentificationNumber</th>\n",
       "      <th>CouncilDistrictCode</th>\n",
       "      <th>Neighborhood</th>\n",
       "      <th>YearBuilt</th>\n",
       "      <th>NumberofBuildings</th>\n",
       "      <th>...</th>\n",
       "      <th>SourceEUIWN(kBtu/sf)</th>\n",
       "      <th>SiteEnergyUse(kBtu)</th>\n",
       "      <th>SiteEnergyUseWN(kBtu)</th>\n",
       "      <th>SteamUse(kBtu)</th>\n",
       "      <th>Electricity(kWh)</th>\n",
       "      <th>Electricity(kBtu)</th>\n",
       "      <th>NaturalGas(therms)</th>\n",
       "      <th>NaturalGas(kBtu)</th>\n",
       "      <th>GHGEmissions(MetricTonsCO2e)</th>\n",
       "      <th>GHGEmissionsIntensity(kgCO2e/ft2)</th>\n",
       "    </tr>\n",
       "  </thead>\n",
       "  <tbody>\n",
       "    <tr>\n",
       "      <th>0</th>\n",
       "      <td>1</td>\n",
       "      <td>2016</td>\n",
       "      <td>NonResidential</td>\n",
       "      <td>Hotel</td>\n",
       "      <td>Mayflower park hotel</td>\n",
       "      <td>0659000030</td>\n",
       "      <td>7</td>\n",
       "      <td>DOWNTOWN</td>\n",
       "      <td>1927</td>\n",
       "      <td>1.0</td>\n",
       "      <td>...</td>\n",
       "      <td>189.000000</td>\n",
       "      <td>7226362.5</td>\n",
       "      <td>7456910.0</td>\n",
       "      <td>2003882.00</td>\n",
       "      <td>1.156514e+06</td>\n",
       "      <td>3946027.0</td>\n",
       "      <td>12764.52930</td>\n",
       "      <td>1276453.0</td>\n",
       "      <td>249.98</td>\n",
       "      <td>2.83</td>\n",
       "    </tr>\n",
       "    <tr>\n",
       "      <th>1</th>\n",
       "      <td>2</td>\n",
       "      <td>2016</td>\n",
       "      <td>NonResidential</td>\n",
       "      <td>Hotel</td>\n",
       "      <td>Paramount Hotel</td>\n",
       "      <td>0659000220</td>\n",
       "      <td>7</td>\n",
       "      <td>DOWNTOWN</td>\n",
       "      <td>1996</td>\n",
       "      <td>1.0</td>\n",
       "      <td>...</td>\n",
       "      <td>179.399994</td>\n",
       "      <td>8387933.0</td>\n",
       "      <td>8664479.0</td>\n",
       "      <td>0.00</td>\n",
       "      <td>9.504252e+05</td>\n",
       "      <td>3242851.0</td>\n",
       "      <td>51450.81641</td>\n",
       "      <td>5145082.0</td>\n",
       "      <td>295.86</td>\n",
       "      <td>2.86</td>\n",
       "    </tr>\n",
       "    <tr>\n",
       "      <th>2</th>\n",
       "      <td>3</td>\n",
       "      <td>2016</td>\n",
       "      <td>NonResidential</td>\n",
       "      <td>Hotel</td>\n",
       "      <td>5673-The Westin Seattle</td>\n",
       "      <td>0659000475</td>\n",
       "      <td>7</td>\n",
       "      <td>DOWNTOWN</td>\n",
       "      <td>1969</td>\n",
       "      <td>1.0</td>\n",
       "      <td>...</td>\n",
       "      <td>244.100006</td>\n",
       "      <td>72587024.0</td>\n",
       "      <td>73937112.0</td>\n",
       "      <td>21566554.00</td>\n",
       "      <td>1.451544e+07</td>\n",
       "      <td>49526664.0</td>\n",
       "      <td>14938.00000</td>\n",
       "      <td>1493800.0</td>\n",
       "      <td>2089.28</td>\n",
       "      <td>2.19</td>\n",
       "    </tr>\n",
       "    <tr>\n",
       "      <th>3</th>\n",
       "      <td>5</td>\n",
       "      <td>2016</td>\n",
       "      <td>NonResidential</td>\n",
       "      <td>Hotel</td>\n",
       "      <td>HOTEL MAX</td>\n",
       "      <td>0659000640</td>\n",
       "      <td>7</td>\n",
       "      <td>DOWNTOWN</td>\n",
       "      <td>1926</td>\n",
       "      <td>1.0</td>\n",
       "      <td>...</td>\n",
       "      <td>224.000000</td>\n",
       "      <td>6794584.0</td>\n",
       "      <td>6946800.5</td>\n",
       "      <td>2214446.25</td>\n",
       "      <td>8.115253e+05</td>\n",
       "      <td>2768924.0</td>\n",
       "      <td>18112.13086</td>\n",
       "      <td>1811213.0</td>\n",
       "      <td>286.43</td>\n",
       "      <td>4.67</td>\n",
       "    </tr>\n",
       "    <tr>\n",
       "      <th>4</th>\n",
       "      <td>8</td>\n",
       "      <td>2016</td>\n",
       "      <td>NonResidential</td>\n",
       "      <td>Hotel</td>\n",
       "      <td>WARWICK SEATTLE HOTEL (ID8)</td>\n",
       "      <td>0659000970</td>\n",
       "      <td>7</td>\n",
       "      <td>DOWNTOWN</td>\n",
       "      <td>1980</td>\n",
       "      <td>1.0</td>\n",
       "      <td>...</td>\n",
       "      <td>215.600006</td>\n",
       "      <td>14172606.0</td>\n",
       "      <td>14656503.0</td>\n",
       "      <td>0.00</td>\n",
       "      <td>1.573449e+06</td>\n",
       "      <td>5368607.0</td>\n",
       "      <td>88039.98438</td>\n",
       "      <td>8803998.0</td>\n",
       "      <td>505.01</td>\n",
       "      <td>2.88</td>\n",
       "    </tr>\n",
       "  </tbody>\n",
       "</table>\n",
       "<p>5 rows × 36 columns</p>\n",
       "</div>"
      ],
      "text/plain": [
       "   OSEBuildingID  DataYear    BuildingType PrimaryPropertyType  \\\n",
       "0              1      2016  NonResidential               Hotel   \n",
       "1              2      2016  NonResidential               Hotel   \n",
       "2              3      2016  NonResidential               Hotel   \n",
       "3              5      2016  NonResidential               Hotel   \n",
       "4              8      2016  NonResidential               Hotel   \n",
       "\n",
       "                  PropertyName TaxParcelIdentificationNumber  \\\n",
       "0         Mayflower park hotel                    0659000030   \n",
       "1              Paramount Hotel                    0659000220   \n",
       "2      5673-The Westin Seattle                    0659000475   \n",
       "3                    HOTEL MAX                    0659000640   \n",
       "4  WARWICK SEATTLE HOTEL (ID8)                    0659000970   \n",
       "\n",
       "   CouncilDistrictCode Neighborhood  YearBuilt  NumberofBuildings  ...  \\\n",
       "0                    7     DOWNTOWN       1927                1.0  ...   \n",
       "1                    7     DOWNTOWN       1996                1.0  ...   \n",
       "2                    7     DOWNTOWN       1969                1.0  ...   \n",
       "3                    7     DOWNTOWN       1926                1.0  ...   \n",
       "4                    7     DOWNTOWN       1980                1.0  ...   \n",
       "\n",
       "   SourceEUIWN(kBtu/sf)  SiteEnergyUse(kBtu)  SiteEnergyUseWN(kBtu)  \\\n",
       "0            189.000000            7226362.5              7456910.0   \n",
       "1            179.399994            8387933.0              8664479.0   \n",
       "2            244.100006           72587024.0             73937112.0   \n",
       "3            224.000000            6794584.0              6946800.5   \n",
       "4            215.600006           14172606.0             14656503.0   \n",
       "\n",
       "   SteamUse(kBtu) Electricity(kWh) Electricity(kBtu)  NaturalGas(therms)  \\\n",
       "0      2003882.00     1.156514e+06         3946027.0         12764.52930   \n",
       "1            0.00     9.504252e+05         3242851.0         51450.81641   \n",
       "2     21566554.00     1.451544e+07        49526664.0         14938.00000   \n",
       "3      2214446.25     8.115253e+05         2768924.0         18112.13086   \n",
       "4            0.00     1.573449e+06         5368607.0         88039.98438   \n",
       "\n",
       "  NaturalGas(kBtu)  GHGEmissions(MetricTonsCO2e)  \\\n",
       "0        1276453.0                        249.98   \n",
       "1        5145082.0                        295.86   \n",
       "2        1493800.0                       2089.28   \n",
       "3        1811213.0                        286.43   \n",
       "4        8803998.0                        505.01   \n",
       "\n",
       "  GHGEmissionsIntensity(kgCO2e/ft2)  \n",
       "0                              2.83  \n",
       "1                              2.86  \n",
       "2                              2.19  \n",
       "3                              4.67  \n",
       "4                              2.88  \n",
       "\n",
       "[5 rows x 36 columns]"
      ]
     },
     "execution_count": 62,
     "metadata": {},
     "output_type": "execute_result"
    }
   ],
   "source": [
    "dfReference.head(5)"
   ]
  },
  {
   "cell_type": "code",
   "execution_count": 63,
   "id": "e35e7b97",
   "metadata": {},
   "outputs": [
    {
     "data": {
      "text/plain": [
       "(6716, 36)"
      ]
     },
     "execution_count": 63,
     "metadata": {},
     "output_type": "execute_result"
    }
   ],
   "source": [
    "dfReference.shape"
   ]
  },
  {
   "cell_type": "code",
   "execution_count": 64,
   "id": "46f19046",
   "metadata": {},
   "outputs": [],
   "source": [
    "dfReferenceFilter = dfReference[dfReference['BuildingType'].str.contains(\"NonResidential\")]"
   ]
  },
  {
   "cell_type": "code",
   "execution_count": 65,
   "id": "41f2b4db",
   "metadata": {},
   "outputs": [
    {
     "data": {
      "text/plain": [
       "(2921, 36)"
      ]
     },
     "execution_count": 65,
     "metadata": {},
     "output_type": "execute_result"
    }
   ],
   "source": [
    "dfReferenceFilter.shape"
   ]
  },
  {
   "cell_type": "code",
   "execution_count": 66,
   "id": "c93a45c9",
   "metadata": {},
   "outputs": [],
   "source": [
    "dfNoduplicates = dfReferenceFilter.drop_duplicates(\n",
    "    subset=['OSEBuildingID'], keep=\"first\")"
   ]
  },
  {
   "cell_type": "code",
   "execution_count": 67,
   "id": "f684eb5b",
   "metadata": {},
   "outputs": [
    {
     "data": {
      "text/plain": [
       "(1488, 36)"
      ]
     },
     "execution_count": 67,
     "metadata": {},
     "output_type": "execute_result"
    }
   ],
   "source": [
    "dfNoduplicates.shape"
   ]
  },
  {
   "cell_type": "code",
   "execution_count": 68,
   "id": "69ead60c",
   "metadata": {},
   "outputs": [],
   "source": [
    "dfNoduplicates.to_csv('df_P3_cleaned.csv')"
   ]
  },
  {
   "cell_type": "code",
   "execution_count": null,
   "id": "3992e244",
   "metadata": {},
   "outputs": [],
   "source": []
  }
 ],
 "metadata": {
  "kernelspec": {
   "display_name": "Python 3",
   "language": "python",
   "name": "python3"
  },
  "language_info": {
   "codemirror_mode": {
    "name": "ipython",
    "version": 3
   },
   "file_extension": ".py",
   "mimetype": "text/x-python",
   "name": "python",
   "nbconvert_exporter": "python",
   "pygments_lexer": "ipython3",
   "version": "3.8.8"
  }
 },
 "nbformat": 4,
 "nbformat_minor": 5
}
